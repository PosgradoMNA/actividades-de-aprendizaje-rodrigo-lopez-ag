{
 "cells": [
  {
   "cell_type": "code",
   "execution_count": 1,
   "id": "4b4b118f-b799-4bba-a0ad-3fe21e17ded1",
   "metadata": {},
   "outputs": [
    {
     "name": "stdout",
     "output_type": "stream",
     "text": [
      "Hello Python 101\n"
     ]
    }
   ],
   "source": [
    "print('Hello Python 101')"
   ]
  },
  {
   "cell_type": "code",
   "execution_count": 10,
   "id": "4b2ea821-9b64-4b75-bd28-1ff805a9f2cc",
   "metadata": {},
   "outputs": [
    {
     "data": {
      "text/plain": [
       "False"
      ]
     },
     "execution_count": 10,
     "metadata": {},
     "output_type": "execute_result"
    }
   ],
   "source": [
    "# type(1)\n",
    "# type(True)\n",
    "bool(0)"
   ]
  },
  {
   "cell_type": "code",
   "execution_count": 26,
   "id": "7abad07b-ad23-4ead-b130-6985c3b0aa57",
   "metadata": {},
   "outputs": [],
   "source": [
    "# 43+60+16+41\n",
    "# 25 / 6\n",
    "# 25 // 6\n",
    "# 2*60+30\n",
    "x = 1\n",
    "y = x / 60"
   ]
  },
  {
   "cell_type": "code",
   "execution_count": 32,
   "id": "9441ad1e-9d1a-41ca-b971-959b7d240b7b",
   "metadata": {},
   "outputs": [],
   "source": [
    "name = 'michael jackson'\n",
    "even = name[::2]\n",
    "sub = name[0:5:2]\n",
    "name = name + ' wtvr'\n",
    "upper = name.upper()"
   ]
  },
  {
   "cell_type": "code",
   "execution_count": 42,
   "id": "d312df17-cdd4-4aa4-ad84-8dac9ca90db9",
   "metadata": {},
   "outputs": [
    {
     "data": {
      "text/plain": [
       "[1, 3.14]"
      ]
     },
     "execution_count": 42,
     "metadata": {},
     "output_type": "execute_result"
    }
   ],
   "source": [
    "tuple1 = (1,2,3,4)\n",
    "tuple2 = ('x', True, 2)\n",
    "i = tuple1[-1]\n",
    "# i\n",
    "tuple3 = tuple1 + tuple2\n",
    "# tuple3\n",
    "tuple4 = (1,2, (True, False))\n",
    "# tuple4\n",
    "list1 = ['wtvr', 1,3.14]\n",
    "del(list1[0])"
   ]
  },
  {
   "cell_type": "code",
   "execution_count": 53,
   "id": "f529f2d1-9d5c-47ba-bc8d-8f406a8ffde4",
   "metadata": {},
   "outputs": [
    {
     "data": {
      "text/plain": [
       "True"
      ]
     },
     "execution_count": 53,
     "metadata": {},
     "output_type": "execute_result"
    }
   ],
   "source": [
    "set1 = {1,2,3}\n",
    "# set1\n",
    "set2 = {2,3,4}\n",
    "set2.add(5)\n",
    "# set2\n",
    "# 2 in set2\n",
    "# set1 & set2\n",
    "set3 = {3,4}\n",
    "# set3.issubset(set2)"
   ]
  },
  {
   "cell_type": "code",
   "execution_count": 67,
   "id": "94e416b4-4914-4fb8-b3bf-c4092849d418",
   "metadata": {},
   "outputs": [],
   "source": [
    "dict1 = {\"Thriller\":1982, \"Back in Black\":1980, \"The Dark Side of the Moon\":1973, \"The Bodyguard\":1992}\n",
    "# dict1['Thriller']\n",
    "dict1['Rumors']=1977\n",
    "del(dict1['Thriller'])\n",
    "# 'Back in Black' in dict1\n",
    "# 'wtvr' in dict1\n",
    "keys = dict1.keys()\n",
    "values = dict1.values()"
   ]
  },
  {
   "cell_type": "code",
   "execution_count": 70,
   "id": "6aed6482-3e26-4a62-9b20-787250d5c060",
   "metadata": {},
   "outputs": [
    {
     "name": "stdout",
     "output_type": "stream",
     "text": [
      "move to special area\n"
     ]
    }
   ],
   "source": [
    "age = 15\n",
    "if age > 18:\n",
    "    print('enter')\n",
    "elif age > 12 and age < 18:\n",
    "    print('move to special area')\n",
    "else:\n",
    "    print('do not enter')"
   ]
  },
  {
   "cell_type": "code",
   "execution_count": 71,
   "id": "85d44965-c004-4c85-a036-c1054d3fba4c",
   "metadata": {},
   "outputs": [
    {
     "name": "stdout",
     "output_type": "stream",
     "text": [
      "red\n",
      "yellow\n",
      "green\n",
      "purple\n",
      "blue\n"
     ]
    }
   ],
   "source": [
    "squares = ['red', 'yellow', 'green', 'purple', 'blue']\n",
    "for i in squares:\n",
    "    print(i)"
   ]
  },
  {
   "cell_type": "code",
   "execution_count": 16,
   "id": "7438c1ea-a8e7-4982-8e2a-f43eb44e2704",
   "metadata": {},
   "outputs": [
    {
     "name": "stdout",
     "output_type": "stream",
     "text": [
      "2\n",
      "9\n",
      "[2, 2, 4, 5, 6, 23, 24, 45, 54, 63, 66]\n",
      "[2, 2, 4, 5, 6, 23, 24, 45, 54, 63, 66]\n",
      "294\n",
      "Help on function myFunc in module __main__:\n",
      "\n",
      "myFunc(a)\n",
      "    add 1 to a\n",
      "\n",
      "None\n",
      "[1, 2, 3]\n"
     ]
    }
   ],
   "source": [
    "def myFunc(a):\n",
    "    \"\"\"\n",
    "    add 1 to a\n",
    "    \"\"\"\n",
    "    return a + 1\n",
    "\n",
    "def collecting(*numbers):\n",
    "    l = list()\n",
    "    for i in numbers:\n",
    "        l.append(i)\n",
    "    return l\n",
    "\n",
    "b = 1\n",
    "print(myFunc(b))\n",
    "mystr = 'saflaskdf'\n",
    "print(len(mystr))\n",
    "sortedList = [2,54,66,4,45,2,24,5,63,6,23]\n",
    "sortedList.sort()\n",
    "print(sortedList)\n",
    "print(sorted(sortedList))\n",
    "print(sum(sortedList))\n",
    "print(help(myFunc))\n",
    "print(collecting(1,2,3))"
   ]
  },
  {
   "cell_type": "code",
   "execution_count": null,
   "id": "ab0359db-f552-4905-8af5-f8aeb2c9158e",
   "metadata": {},
   "outputs": [],
   "source": []
  },
  {
   "cell_type": "code",
   "execution_count": null,
   "id": "05ab71e3-35db-4a2f-bcf9-bddef1775e85",
   "metadata": {},
   "outputs": [],
   "source": []
  },
  {
   "cell_type": "code",
   "execution_count": null,
   "id": "6b5c211b-db06-4391-85a4-15ea54c0c0b7",
   "metadata": {},
   "outputs": [],
   "source": []
  },
  {
   "cell_type": "code",
   "execution_count": null,
   "id": "bb2a1607-1e39-4c2c-be77-cf55f8e2d7cd",
   "metadata": {},
   "outputs": [],
   "source": []
  },
  {
   "cell_type": "code",
   "execution_count": null,
   "id": "2b6e251a-6754-437b-a861-0c1a58727ba7",
   "metadata": {},
   "outputs": [],
   "source": []
  },
  {
   "cell_type": "code",
   "execution_count": null,
   "id": "8ef881e3-b3d1-474f-9f46-3e9b7c6b1c84",
   "metadata": {},
   "outputs": [],
   "source": []
  },
  {
   "cell_type": "code",
   "execution_count": null,
   "id": "375c411a-d4eb-43dd-ab64-ec4c3c5be555",
   "metadata": {},
   "outputs": [],
   "source": []
  },
  {
   "cell_type": "code",
   "execution_count": null,
   "id": "b4921ef7-c69c-4aaf-9afa-a5d2b6a42c91",
   "metadata": {},
   "outputs": [],
   "source": []
  },
  {
   "cell_type": "code",
   "execution_count": null,
   "id": "4ef6c385-ec22-4ccd-89b0-2f939cea6ca0",
   "metadata": {},
   "outputs": [],
   "source": []
  },
  {
   "cell_type": "code",
   "execution_count": null,
   "id": "0f78df50-bf7d-4088-9b9a-844e93d54245",
   "metadata": {},
   "outputs": [],
   "source": []
  },
  {
   "cell_type": "code",
   "execution_count": null,
   "id": "d0f8fcec-a14f-4407-a2f2-18483fe6ba98",
   "metadata": {},
   "outputs": [],
   "source": []
  },
  {
   "cell_type": "code",
   "execution_count": null,
   "id": "84962232-e827-4721-85e3-d424d2d7f796",
   "metadata": {},
   "outputs": [],
   "source": []
  },
  {
   "cell_type": "code",
   "execution_count": null,
   "id": "21ad891a-d6d1-4bb2-bf6a-f5717d45c109",
   "metadata": {},
   "outputs": [],
   "source": []
  }
 ],
 "metadata": {
  "kernelspec": {
   "display_name": "Python 3 (ipykernel)",
   "language": "python",
   "name": "python3"
  },
  "language_info": {
   "codemirror_mode": {
    "name": "ipython",
    "version": 3
   },
   "file_extension": ".py",
   "mimetype": "text/x-python",
   "name": "python",
   "nbconvert_exporter": "python",
   "pygments_lexer": "ipython3",
   "version": "3.8.0"
  }
 },
 "nbformat": 4,
 "nbformat_minor": 5
}
